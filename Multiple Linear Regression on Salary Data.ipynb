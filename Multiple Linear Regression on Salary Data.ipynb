{
 "cells": [
  {
   "cell_type": "markdown",
   "id": "dd419b04-134c-48c0-971a-a80fe098af9b",
   "metadata": {},
   "source": [
    "# Importing Libraries"
   ]
  },
  {
   "cell_type": "code",
   "execution_count": 33,
   "id": "5c32de8b-3e82-401a-8479-3ba1ac951dc1",
   "metadata": {},
   "outputs": [],
   "source": [
    "import pandas as pd\n",
    "import numpy as np\n",
    "import matplotlib.pyplot as plt\n",
    "import seaborn as sns\n",
    "\n",
    "from sklearn.linear_model import LinearRegression\n",
    "from sklearn.metrics import mean_squared_error, r2_score\n",
    "from sklearn.preprocessing import StandardScaler, OneHotEncoder, MinMaxScaler\n",
    "\n",
    "import warnings\n",
    "warnings.filterwarnings(\"ignore\")"
   ]
  },
  {
   "cell_type": "code",
   "execution_count": 2,
   "id": "b4c7a3c4-e4a8-4080-ba69-d61c5242c8c3",
   "metadata": {},
   "outputs": [],
   "source": [
    "df=pd.read_excel(\"Salary Data for Multiple Linear Regression.xlsx\")"
   ]
  },
  {
   "cell_type": "code",
   "execution_count": 3,
   "id": "ac7955e2-988b-49d6-b9b3-ba04f700feb3",
   "metadata": {},
   "outputs": [
    {
     "data": {
      "text/html": [
       "<div>\n",
       "<style scoped>\n",
       "    .dataframe tbody tr th:only-of-type {\n",
       "        vertical-align: middle;\n",
       "    }\n",
       "\n",
       "    .dataframe tbody tr th {\n",
       "        vertical-align: top;\n",
       "    }\n",
       "\n",
       "    .dataframe thead th {\n",
       "        text-align: right;\n",
       "    }\n",
       "</style>\n",
       "<table border=\"1\" class=\"dataframe\">\n",
       "  <thead>\n",
       "    <tr style=\"text-align: right;\">\n",
       "      <th></th>\n",
       "      <th>Position</th>\n",
       "      <th>Type</th>\n",
       "      <th>Location</th>\n",
       "      <th>Interview</th>\n",
       "      <th>Experience</th>\n",
       "      <th>Salary</th>\n",
       "    </tr>\n",
       "  </thead>\n",
       "  <tbody>\n",
       "    <tr>\n",
       "      <th>0</th>\n",
       "      <td>DA</td>\n",
       "      <td>WFH</td>\n",
       "      <td>Remote</td>\n",
       "      <td>10</td>\n",
       "      <td>1.2</td>\n",
       "      <td>39344</td>\n",
       "    </tr>\n",
       "    <tr>\n",
       "      <th>1</th>\n",
       "      <td>DA</td>\n",
       "      <td>WFH</td>\n",
       "      <td>Remote</td>\n",
       "      <td>5</td>\n",
       "      <td>1.4</td>\n",
       "      <td>46206</td>\n",
       "    </tr>\n",
       "    <tr>\n",
       "      <th>2</th>\n",
       "      <td>DA</td>\n",
       "      <td>WFH</td>\n",
       "      <td>Remote</td>\n",
       "      <td>7</td>\n",
       "      <td>1.6</td>\n",
       "      <td>37732</td>\n",
       "    </tr>\n",
       "    <tr>\n",
       "      <th>3</th>\n",
       "      <td>DA</td>\n",
       "      <td>WFH</td>\n",
       "      <td>Remote</td>\n",
       "      <td>8</td>\n",
       "      <td>2.1</td>\n",
       "      <td>43526</td>\n",
       "    </tr>\n",
       "    <tr>\n",
       "      <th>4</th>\n",
       "      <td>DA</td>\n",
       "      <td>WFH</td>\n",
       "      <td>Remote</td>\n",
       "      <td>6</td>\n",
       "      <td>2.3</td>\n",
       "      <td>39892</td>\n",
       "    </tr>\n",
       "  </tbody>\n",
       "</table>\n",
       "</div>"
      ],
      "text/plain": [
       "  Position Type Location  Interview  Experience  Salary\n",
       "0       DA  WFH   Remote         10         1.2   39344\n",
       "1       DA  WFH   Remote          5         1.4   46206\n",
       "2       DA  WFH   Remote          7         1.6   37732\n",
       "3       DA  WFH   Remote          8         2.1   43526\n",
       "4       DA  WFH   Remote          6         2.3   39892"
      ]
     },
     "execution_count": 3,
     "metadata": {},
     "output_type": "execute_result"
    }
   ],
   "source": [
    "df.head()"
   ]
  },
  {
   "cell_type": "code",
   "execution_count": 4,
   "id": "530aedd2-47c4-4b75-a22f-484b2f726fc5",
   "metadata": {},
   "outputs": [
    {
     "name": "stdout",
     "output_type": "stream",
     "text": [
      "<class 'pandas.core.frame.DataFrame'>\n",
      "RangeIndex: 30 entries, 0 to 29\n",
      "Data columns (total 6 columns):\n",
      " #   Column      Non-Null Count  Dtype  \n",
      "---  ------      --------------  -----  \n",
      " 0   Position    30 non-null     object \n",
      " 1   Type        30 non-null     object \n",
      " 2   Location    30 non-null     object \n",
      " 3   Interview   30 non-null     int64  \n",
      " 4   Experience  30 non-null     float64\n",
      " 5   Salary      30 non-null     int64  \n",
      "dtypes: float64(1), int64(2), object(3)\n",
      "memory usage: 1.5+ KB\n"
     ]
    }
   ],
   "source": [
    "df.info()"
   ]
  },
  {
   "cell_type": "markdown",
   "id": "1062a11f-1932-46f0-9196-9ab319b4789b",
   "metadata": {},
   "source": [
    "# Exploratory Data Analysis"
   ]
  },
  {
   "cell_type": "code",
   "execution_count": 5,
   "id": "402025f3-b5f0-442f-a6b1-0a5e7b0c9635",
   "metadata": {},
   "outputs": [
    {
     "data": {
      "text/plain": [
       "Position\n",
       "DA    15\n",
       "DS    15\n",
       "Name: count, dtype: int64"
      ]
     },
     "execution_count": 5,
     "metadata": {},
     "output_type": "execute_result"
    }
   ],
   "source": [
    "df[\"Position\"].value_counts()"
   ]
  },
  {
   "cell_type": "code",
   "execution_count": 6,
   "id": "9e1794d9-c916-4527-adbb-3e25c1312319",
   "metadata": {},
   "outputs": [
    {
     "data": {
      "image/png": "[encoded data removed]",
      "text/plain": [
       "<Figure size 500x300 with 1 Axes>"
      ]
     },
     "metadata": {},
     "output_type": "display_data"
    }
   ],
   "source": [
    "df.groupby(\"Position\")[\"Salary\"].mean().plot(kind=\"barh\", figsize=(5,3), width=0.8, \n",
    "                                             title=\"Position VS Salary\")\n",
    "plt.grid(axis=\"x\")\n",
    "plt.axvline(df[\"Salary\"].mean(), color=\"red\")\n",
    "plt.show()"
   ]
  },
  {
   "cell_type": "code",
   "execution_count": 7,
   "id": "5eab84b1-7479-48bd-a174-3a618dd9a3c2",
   "metadata": {},
   "outputs": [
    {
     "data": {
      "image/png": "[encoded data removed]",
      "text/plain": [
       "<Figure size 800x300 with 1 Axes>"
      ]
     },
     "metadata": {},
     "output_type": "display_data"
    }
   ],
   "source": [
    "df.groupby(\"Type\")[\"Salary\"].mean().plot(kind=\"barh\", figsize=(8,3), width=0.8, \n",
    "                                             title=\"Type VS Salary\")\n",
    "plt.grid(axis=\"x\")\n",
    "plt.axvline(df[\"Salary\"].mean(), color=\"red\")\n",
    "plt.show()"
   ]
  },
  {
   "cell_type": "code",
   "execution_count": 8,
   "id": "6ae28498-2f77-4629-9281-30584aa0d3ce",
   "metadata": {},
   "outputs": [
    {
     "data": {
      "image/png": "[encoded data removed]",
      "text/plain": [
       "<Figure size 800x300 with 1 Axes>"
      ]
     },
     "metadata": {},
     "output_type": "display_data"
    }
   ],
   "source": [
    "df.groupby(\"Location\")[\"Salary\"].mean().plot(kind=\"barh\", figsize=(8,3), width=0.8, \n",
    "                                             title=\"Location VS Salary\")\n",
    "plt.grid(axis=\"x\")\n",
    "plt.axvline(df[\"Salary\"].mean(), color=\"red\")\n",
    "plt.show()"
   ]
  },
  {
   "cell_type": "code",
   "execution_count": 9,
   "id": "fae90a74-4726-4138-adff-c710035543ab",
   "metadata": {},
   "outputs": [
    {
     "data": {
      "text/html": [
       "<div>\n",
       "<style scoped>\n",
       "    .dataframe tbody tr th:only-of-type {\n",
       "        vertical-align: middle;\n",
       "    }\n",
       "\n",
       "    .dataframe tbody tr th {\n",
       "        vertical-align: top;\n",
       "    }\n",
       "\n",
       "    .dataframe thead th {\n",
       "        text-align: right;\n",
       "    }\n",
       "</style>\n",
       "<table border=\"1\" class=\"dataframe\">\n",
       "  <thead>\n",
       "    <tr style=\"text-align: right;\">\n",
       "      <th>Type</th>\n",
       "      <th>WFH</th>\n",
       "      <th>WFO</th>\n",
       "    </tr>\n",
       "    <tr>\n",
       "      <th>Position</th>\n",
       "      <th></th>\n",
       "      <th></th>\n",
       "    </tr>\n",
       "  </thead>\n",
       "  <tbody>\n",
       "    <tr>\n",
       "      <th>DA</th>\n",
       "      <td>5</td>\n",
       "      <td>10</td>\n",
       "    </tr>\n",
       "    <tr>\n",
       "      <th>DS</th>\n",
       "      <td>5</td>\n",
       "      <td>10</td>\n",
       "    </tr>\n",
       "  </tbody>\n",
       "</table>\n",
       "</div>"
      ],
      "text/plain": [
       "Type      WFH  WFO\n",
       "Position          \n",
       "DA          5   10\n",
       "DS          5   10"
      ]
     },
     "execution_count": 9,
     "metadata": {},
     "output_type": "execute_result"
    }
   ],
   "source": [
    "pd.crosstab(df[\"Position\"], df[\"Type\"])"
   ]
  },
  {
   "cell_type": "code",
   "execution_count": 10,
   "id": "3dd00415-bc34-467e-aa28-6638bf51308f",
   "metadata": {},
   "outputs": [
    {
     "data": {
      "text/html": [
       "<div>\n",
       "<style scoped>\n",
       "    .dataframe tbody tr th:only-of-type {\n",
       "        vertical-align: middle;\n",
       "    }\n",
       "\n",
       "    .dataframe tbody tr th {\n",
       "        vertical-align: top;\n",
       "    }\n",
       "\n",
       "    .dataframe thead th {\n",
       "        text-align: right;\n",
       "    }\n",
       "</style>\n",
       "<table border=\"1\" class=\"dataframe\">\n",
       "  <thead>\n",
       "    <tr style=\"text-align: right;\">\n",
       "      <th>Position</th>\n",
       "      <th>DA</th>\n",
       "      <th>DS</th>\n",
       "    </tr>\n",
       "    <tr>\n",
       "      <th>Location</th>\n",
       "      <th></th>\n",
       "      <th></th>\n",
       "    </tr>\n",
       "  </thead>\n",
       "  <tbody>\n",
       "    <tr>\n",
       "      <th>Benglore</th>\n",
       "      <td>58833.2</td>\n",
       "      <td>115890.8</td>\n",
       "    </tr>\n",
       "    <tr>\n",
       "      <th>Pune</th>\n",
       "      <td>58575.2</td>\n",
       "      <td>102912.2</td>\n",
       "    </tr>\n",
       "    <tr>\n",
       "      <th>Remote</th>\n",
       "      <td>41340.0</td>\n",
       "      <td>78472.6</td>\n",
       "    </tr>\n",
       "  </tbody>\n",
       "</table>\n",
       "</div>"
      ],
      "text/plain": [
       "Position       DA        DS\n",
       "Location                   \n",
       "Benglore  58833.2  115890.8\n",
       "Pune      58575.2  102912.2\n",
       "Remote    41340.0   78472.6"
      ]
     },
     "execution_count": 10,
     "metadata": {},
     "output_type": "execute_result"
    }
   ],
   "source": [
    "pd.pivot_table(df, index=\"Location\", columns=\"Position\", values=\"Salary\", aggfunc=\"mean\")"
   ]
  },
  {
   "cell_type": "code",
   "execution_count": 11,
   "id": "96f393d3-b638-4cef-b9b0-080df336be9d",
   "metadata": {},
   "outputs": [
    {
     "data": {
      "image/png": "[encoded data removed]",
      "text/plain": [
       "<Figure size 640x480 with 1 Axes>"
      ]
     },
     "metadata": {},
     "output_type": "display_data"
    }
   ],
   "source": [
    "sns.histplot(df, x=\"Salary\", kde=True, hue=\"Type\")\n",
    "plt.show()"
   ]
  },
  {
   "cell_type": "code",
   "execution_count": 12,
   "id": "25f0f2cd-93ea-40de-9976-629da1dc471d",
   "metadata": {},
   "outputs": [
    {
     "data": {
      "image/png": "[encoded data removed]",
      "text/plain": [
       "<Figure size 640x480 with 1 Axes>"
      ]
     },
     "metadata": {},
     "output_type": "display_data"
    }
   ],
   "source": [
    "sns.histplot(df, x=\"Interview\", kde=True, hue=\"Position\")\n",
    "plt.show()"
   ]
  },
  {
   "cell_type": "code",
   "execution_count": 13,
   "id": "40f32adf-78a7-4c91-b081-266be3cc66d5",
   "metadata": {},
   "outputs": [
    {
     "data": {
      "image/png": "[encoded data removed]",
      "text/plain": [
       "<Figure size 640x480 with 2 Axes>"
      ]
     },
     "metadata": {},
     "output_type": "display_data"
    }
   ],
   "source": [
    "plt.scatter(df[\"Experience\"],df[\"Salary\"], s=df[\"Interview\"]*30, c=df[\"Interview\"], alpha=0.7, edgecolors=\"black\")\n",
    "plt.colorbar()\n",
    "plt.show()"
   ]
  },
  {
   "cell_type": "code",
   "execution_count": 14,
   "id": "ad811d5e-e75a-4062-ba07-9cb7499bca42",
   "metadata": {},
   "outputs": [
    {
     "data": {
      "image/png": "[encoded data removed]",
      "text/plain": [
       "<Figure size 640x480 with 2 Axes>"
      ]
     },
     "metadata": {},
     "output_type": "display_data"
    }
   ],
   "source": [
    "plt.scatter(df[\"Interview\"],df[\"Salary\"], s=df[\"Experience\"]*30, c=df[\"Experience\"], alpha=0.7, edgecolors=\"black\")\n",
    "plt.colorbar()\n",
    "plt.show()"
   ]
  },
  {
   "cell_type": "code",
   "execution_count": 15,
   "id": "216ad3a6-9fe4-4037-a165-655aae0eb638",
   "metadata": {},
   "outputs": [
    {
     "data": {
      "text/html": [
       "<div>\n",
       "<style scoped>\n",
       "    .dataframe tbody tr th:only-of-type {\n",
       "        vertical-align: middle;\n",
       "    }\n",
       "\n",
       "    .dataframe tbody tr th {\n",
       "        vertical-align: top;\n",
       "    }\n",
       "\n",
       "    .dataframe thead th {\n",
       "        text-align: right;\n",
       "    }\n",
       "</style>\n",
       "<table border=\"1\" class=\"dataframe\">\n",
       "  <thead>\n",
       "    <tr style=\"text-align: right;\">\n",
       "      <th></th>\n",
       "      <th>Experience</th>\n",
       "      <th>Interview</th>\n",
       "      <th>Salary</th>\n",
       "    </tr>\n",
       "  </thead>\n",
       "  <tbody>\n",
       "    <tr>\n",
       "      <th>Experience</th>\n",
       "      <td>1.000000</td>\n",
       "      <td>0.042277</td>\n",
       "      <td>0.978242</td>\n",
       "    </tr>\n",
       "    <tr>\n",
       "      <th>Interview</th>\n",
       "      <td>0.042277</td>\n",
       "      <td>1.000000</td>\n",
       "      <td>0.004856</td>\n",
       "    </tr>\n",
       "    <tr>\n",
       "      <th>Salary</th>\n",
       "      <td>0.978242</td>\n",
       "      <td>0.004856</td>\n",
       "      <td>1.000000</td>\n",
       "    </tr>\n",
       "  </tbody>\n",
       "</table>\n",
       "</div>"
      ],
      "text/plain": [
       "            Experience  Interview    Salary\n",
       "Experience    1.000000   0.042277  0.978242\n",
       "Interview     0.042277   1.000000  0.004856\n",
       "Salary        0.978242   0.004856  1.000000"
      ]
     },
     "execution_count": 15,
     "metadata": {},
     "output_type": "execute_result"
    }
   ],
   "source": [
    "df[[\"Experience\", \"Interview\", \"Salary\"]].corr()"
   ]
  },
  {
   "cell_type": "code",
   "execution_count": 16,
   "id": "02f0ccf6-57ee-47db-ae99-09576ab4e6d3",
   "metadata": {},
   "outputs": [
    {
     "data": {
      "text/html": [
       "<div>\n",
       "<style scoped>\n",
       "    .dataframe tbody tr th:only-of-type {\n",
       "        vertical-align: middle;\n",
       "    }\n",
       "\n",
       "    .dataframe tbody tr th {\n",
       "        vertical-align: top;\n",
       "    }\n",
       "\n",
       "    .dataframe thead th {\n",
       "        text-align: right;\n",
       "    }\n",
       "</style>\n",
       "<table border=\"1\" class=\"dataframe\">\n",
       "  <thead>\n",
       "    <tr style=\"text-align: right;\">\n",
       "      <th></th>\n",
       "      <th>Position</th>\n",
       "      <th>Type</th>\n",
       "      <th>Location</th>\n",
       "      <th>Interview</th>\n",
       "      <th>Experience</th>\n",
       "      <th>Salary</th>\n",
       "    </tr>\n",
       "  </thead>\n",
       "  <tbody>\n",
       "    <tr>\n",
       "      <th>0</th>\n",
       "      <td>DA</td>\n",
       "      <td>WFH</td>\n",
       "      <td>Remote</td>\n",
       "      <td>10</td>\n",
       "      <td>1.2</td>\n",
       "      <td>39344</td>\n",
       "    </tr>\n",
       "    <tr>\n",
       "      <th>1</th>\n",
       "      <td>DA</td>\n",
       "      <td>WFH</td>\n",
       "      <td>Remote</td>\n",
       "      <td>5</td>\n",
       "      <td>1.4</td>\n",
       "      <td>46206</td>\n",
       "    </tr>\n",
       "    <tr>\n",
       "      <th>2</th>\n",
       "      <td>DA</td>\n",
       "      <td>WFH</td>\n",
       "      <td>Remote</td>\n",
       "      <td>7</td>\n",
       "      <td>1.6</td>\n",
       "      <td>37732</td>\n",
       "    </tr>\n",
       "    <tr>\n",
       "      <th>3</th>\n",
       "      <td>DA</td>\n",
       "      <td>WFH</td>\n",
       "      <td>Remote</td>\n",
       "      <td>8</td>\n",
       "      <td>2.1</td>\n",
       "      <td>43526</td>\n",
       "    </tr>\n",
       "    <tr>\n",
       "      <th>4</th>\n",
       "      <td>DA</td>\n",
       "      <td>WFH</td>\n",
       "      <td>Remote</td>\n",
       "      <td>6</td>\n",
       "      <td>2.3</td>\n",
       "      <td>39892</td>\n",
       "    </tr>\n",
       "  </tbody>\n",
       "</table>\n",
       "</div>"
      ],
      "text/plain": [
       "  Position Type Location  Interview  Experience  Salary\n",
       "0       DA  WFH   Remote         10         1.2   39344\n",
       "1       DA  WFH   Remote          5         1.4   46206\n",
       "2       DA  WFH   Remote          7         1.6   37732\n",
       "3       DA  WFH   Remote          8         2.1   43526\n",
       "4       DA  WFH   Remote          6         2.3   39892"
      ]
     },
     "execution_count": 16,
     "metadata": {},
     "output_type": "execute_result"
    }
   ],
   "source": [
    "df.head()"
   ]
  },
  {
   "cell_type": "code",
   "execution_count": 17,
   "id": "b516c716-b46d-4e13-9f05-d7b98c620f24",
   "metadata": {},
   "outputs": [
    {
     "name": "stdout",
     "output_type": "stream",
     "text": [
      "column Position and values in col ['DA' 'DS']\n",
      "column Type and values in col ['WFH' 'WFO']\n",
      "column Location and values in col ['Remote' 'Pune' 'Benglore']\n"
     ]
    }
   ],
   "source": [
    "for i in [\"Position\", \"Type\", \"Location\"]:\n",
    "    print(f\"column {i} and values in col {df[i].unique()}\")"
   ]
  },
  {
   "cell_type": "markdown",
   "id": "cd4b7aa9-1dcb-4907-98ee-aa90a79634a8",
   "metadata": {},
   "source": [
    "# Cpverting data in standard form\n",
    "# converting all catergorical col into numerical col\n",
    "# scaler transformation of all numeric col"
   ]
  },
  {
   "cell_type": "code",
   "execution_count": 18,
   "id": "dbb0b1d7-9ced-4f34-99f0-a15658ee0076",
   "metadata": {},
   "outputs": [
    {
     "data": {
      "text/html": [
       "<div>\n",
       "<style scoped>\n",
       "    .dataframe tbody tr th:only-of-type {\n",
       "        vertical-align: middle;\n",
       "    }\n",
       "\n",
       "    .dataframe tbody tr th {\n",
       "        vertical-align: top;\n",
       "    }\n",
       "\n",
       "    .dataframe thead th {\n",
       "        text-align: right;\n",
       "    }\n",
       "</style>\n",
       "<table border=\"1\" class=\"dataframe\">\n",
       "  <thead>\n",
       "    <tr style=\"text-align: right;\">\n",
       "      <th></th>\n",
       "      <th>Position</th>\n",
       "      <th>Type</th>\n",
       "      <th>Location</th>\n",
       "      <th>Interview</th>\n",
       "      <th>Experience</th>\n",
       "      <th>Salary</th>\n",
       "    </tr>\n",
       "  </thead>\n",
       "  <tbody>\n",
       "    <tr>\n",
       "      <th>29</th>\n",
       "      <td>DS</td>\n",
       "      <td>WFO</td>\n",
       "      <td>Benglore</td>\n",
       "      <td>8</td>\n",
       "      <td>10.6</td>\n",
       "      <td>121873</td>\n",
       "    </tr>\n",
       "    <tr>\n",
       "      <th>1</th>\n",
       "      <td>DA</td>\n",
       "      <td>WFH</td>\n",
       "      <td>Remote</td>\n",
       "      <td>5</td>\n",
       "      <td>1.4</td>\n",
       "      <td>46206</td>\n",
       "    </tr>\n",
       "    <tr>\n",
       "      <th>7</th>\n",
       "      <td>DA</td>\n",
       "      <td>WFO</td>\n",
       "      <td>Pune</td>\n",
       "      <td>8</td>\n",
       "      <td>3.3</td>\n",
       "      <td>54446</td>\n",
       "    </tr>\n",
       "    <tr>\n",
       "      <th>25</th>\n",
       "      <td>DS</td>\n",
       "      <td>WFO</td>\n",
       "      <td>Benglore</td>\n",
       "      <td>7</td>\n",
       "      <td>9.1</td>\n",
       "      <td>105583</td>\n",
       "    </tr>\n",
       "    <tr>\n",
       "      <th>9</th>\n",
       "      <td>DA</td>\n",
       "      <td>WFO</td>\n",
       "      <td>Pune</td>\n",
       "      <td>8</td>\n",
       "      <td>3.8</td>\n",
       "      <td>57190</td>\n",
       "    </tr>\n",
       "  </tbody>\n",
       "</table>\n",
       "</div>"
      ],
      "text/plain": [
       "   Position Type  Location  Interview  Experience  Salary\n",
       "29       DS  WFO  Benglore          8        10.6  121873\n",
       "1        DA  WFH    Remote          5         1.4   46206\n",
       "7        DA  WFO      Pune          8         3.3   54446\n",
       "25       DS  WFO  Benglore          7         9.1  105583\n",
       "9        DA  WFO      Pune          8         3.8   57190"
      ]
     },
     "execution_count": 18,
     "metadata": {},
     "output_type": "execute_result"
    }
   ],
   "source": [
    "df.sample(5)"
   ]
  },
  {
   "cell_type": "code",
   "execution_count": 19,
   "id": "a01217f6-595f-4f40-9ae5-b843b1cd81fa",
   "metadata": {},
   "outputs": [],
   "source": [
    "ohe= OneHotEncoder(drop=\"first\")"
   ]
  },
  {
   "cell_type": "code",
   "execution_count": 23,
   "id": "b5bfa83a-8b00-460e-b2a2-9449bba5fa1f",
   "metadata": {},
   "outputs": [],
   "source": [
    "encoded= ohe.fit_transform(df[[\"Position\", \"Type\", \"Location\"]])"
   ]
  },
  {
   "cell_type": "code",
   "execution_count": 24,
   "id": "06f7028d-f7b3-43aa-a5c8-af5103bd2372",
   "metadata": {
    "collapsed": true,
    "jupyter": {
     "outputs_hidden": true
    }
   },
   "outputs": [
    {
     "data": {
      "text/plain": [
       "array([[0., 0., 0., 1.],\n",
       "       [0., 0., 0., 1.],\n",
       "       [0., 0., 0., 1.],\n",
       "       [0., 0., 0., 1.],\n",
       "       [0., 0., 0., 1.],\n",
       "       [0., 1., 1., 0.],\n",
       "       [0., 1., 1., 0.],\n",
       "       [0., 1., 1., 0.],\n",
       "       [0., 1., 1., 0.],\n",
       "       [0., 1., 1., 0.],\n",
       "       [0., 1., 0., 0.],\n",
       "       [0., 1., 0., 0.],\n",
       "       [0., 1., 0., 0.],\n",
       "       [0., 1., 0., 0.],\n",
       "       [0., 1., 0., 0.],\n",
       "       [1., 0., 0., 1.],\n",
       "       [1., 0., 0., 1.],\n",
       "       [1., 0., 0., 1.],\n",
       "       [1., 0., 0., 1.],\n",
       "       [1., 0., 0., 1.],\n",
       "       [1., 1., 1., 0.],\n",
       "       [1., 1., 1., 0.],\n",
       "       [1., 1., 1., 0.],\n",
       "       [1., 1., 1., 0.],\n",
       "       [1., 1., 1., 0.],\n",
       "       [1., 1., 0., 0.],\n",
       "       [1., 1., 0., 0.],\n",
       "       [1., 1., 0., 0.],\n",
       "       [1., 1., 0., 0.],\n",
       "       [1., 1., 0., 0.]])"
      ]
     },
     "execution_count": 24,
     "metadata": {},
     "output_type": "execute_result"
    }
   ],
   "source": [
    "encoded.toarray()"
   ]
  },
  {
   "cell_type": "code",
   "execution_count": 25,
   "id": "45ca6758-377b-4807-b3c7-253e7af6d710",
   "metadata": {},
   "outputs": [
    {
     "data": {
      "text/plain": [
       "array(['Position_DS', 'Type_WFO', 'Location_Pune', 'Location_Remote'],\n",
       "      dtype=object)"
      ]
     },
     "execution_count": 25,
     "metadata": {},
     "output_type": "execute_result"
    }
   ],
   "source": [
    "ohe.get_feature_names_out()"
   ]
  },
  {
   "cell_type": "code",
   "execution_count": 26,
   "id": "a1d29166-dbce-4942-a67b-5a9f9f6b70ce",
   "metadata": {},
   "outputs": [],
   "source": [
    "df[ohe.get_feature_names_out()]= encoded.toarray()"
   ]
  },
  {
   "cell_type": "code",
   "execution_count": 27,
   "id": "a10d02cf-e6e5-41d4-8914-2b1a510dfa52",
   "metadata": {},
   "outputs": [
    {
     "data": {
      "text/html": [
       "<div>\n",
       "<style scoped>\n",
       "    .dataframe tbody tr th:only-of-type {\n",
       "        vertical-align: middle;\n",
       "    }\n",
       "\n",
       "    .dataframe tbody tr th {\n",
       "        vertical-align: top;\n",
       "    }\n",
       "\n",
       "    .dataframe thead th {\n",
       "        text-align: right;\n",
       "    }\n",
       "</style>\n",
       "<table border=\"1\" class=\"dataframe\">\n",
       "  <thead>\n",
       "    <tr style=\"text-align: right;\">\n",
       "      <th></th>\n",
       "      <th>Position</th>\n",
       "      <th>Type</th>\n",
       "      <th>Location</th>\n",
       "      <th>Interview</th>\n",
       "      <th>Experience</th>\n",
       "      <th>Salary</th>\n",
       "      <th>Position_DS</th>\n",
       "      <th>Type_WFO</th>\n",
       "      <th>Location_Pune</th>\n",
       "      <th>Location_Remote</th>\n",
       "    </tr>\n",
       "  </thead>\n",
       "  <tbody>\n",
       "    <tr>\n",
       "      <th>0</th>\n",
       "      <td>DA</td>\n",
       "      <td>WFH</td>\n",
       "      <td>Remote</td>\n",
       "      <td>10</td>\n",
       "      <td>1.2</td>\n",
       "      <td>39344</td>\n",
       "      <td>0.0</td>\n",
       "      <td>0.0</td>\n",
       "      <td>0.0</td>\n",
       "      <td>1.0</td>\n",
       "    </tr>\n",
       "    <tr>\n",
       "      <th>1</th>\n",
       "      <td>DA</td>\n",
       "      <td>WFH</td>\n",
       "      <td>Remote</td>\n",
       "      <td>5</td>\n",
       "      <td>1.4</td>\n",
       "      <td>46206</td>\n",
       "      <td>0.0</td>\n",
       "      <td>0.0</td>\n",
       "      <td>0.0</td>\n",
       "      <td>1.0</td>\n",
       "    </tr>\n",
       "    <tr>\n",
       "      <th>2</th>\n",
       "      <td>DA</td>\n",
       "      <td>WFH</td>\n",
       "      <td>Remote</td>\n",
       "      <td>7</td>\n",
       "      <td>1.6</td>\n",
       "      <td>37732</td>\n",
       "      <td>0.0</td>\n",
       "      <td>0.0</td>\n",
       "      <td>0.0</td>\n",
       "      <td>1.0</td>\n",
       "    </tr>\n",
       "    <tr>\n",
       "      <th>3</th>\n",
       "      <td>DA</td>\n",
       "      <td>WFH</td>\n",
       "      <td>Remote</td>\n",
       "      <td>8</td>\n",
       "      <td>2.1</td>\n",
       "      <td>43526</td>\n",
       "      <td>0.0</td>\n",
       "      <td>0.0</td>\n",
       "      <td>0.0</td>\n",
       "      <td>1.0</td>\n",
       "    </tr>\n",
       "    <tr>\n",
       "      <th>4</th>\n",
       "      <td>DA</td>\n",
       "      <td>WFH</td>\n",
       "      <td>Remote</td>\n",
       "      <td>6</td>\n",
       "      <td>2.3</td>\n",
       "      <td>39892</td>\n",
       "      <td>0.0</td>\n",
       "      <td>0.0</td>\n",
       "      <td>0.0</td>\n",
       "      <td>1.0</td>\n",
       "    </tr>\n",
       "  </tbody>\n",
       "</table>\n",
       "</div>"
      ],
      "text/plain": [
       "  Position Type Location  Interview  Experience  Salary  Position_DS  \\\n",
       "0       DA  WFH   Remote         10         1.2   39344          0.0   \n",
       "1       DA  WFH   Remote          5         1.4   46206          0.0   \n",
       "2       DA  WFH   Remote          7         1.6   37732          0.0   \n",
       "3       DA  WFH   Remote          8         2.1   43526          0.0   \n",
       "4       DA  WFH   Remote          6         2.3   39892          0.0   \n",
       "\n",
       "   Type_WFO  Location_Pune  Location_Remote  \n",
       "0       0.0            0.0              1.0  \n",
       "1       0.0            0.0              1.0  \n",
       "2       0.0            0.0              1.0  \n",
       "3       0.0            0.0              1.0  \n",
       "4       0.0            0.0              1.0  "
      ]
     },
     "execution_count": 27,
     "metadata": {},
     "output_type": "execute_result"
    }
   ],
   "source": [
    "df.head()"
   ]
  },
  {
   "cell_type": "code",
   "execution_count": 28,
   "id": "def89582-ae31-436f-a139-965f7ac501e7",
   "metadata": {},
   "outputs": [],
   "source": [
    "df.drop([\"Position\", \"Type\", \"Location\"], axis=1, inplace=True)"
   ]
  },
  {
   "cell_type": "code",
   "execution_count": 30,
   "id": "72d2687f-d735-4dd8-babb-284289505e9d",
   "metadata": {},
   "outputs": [
    {
     "data": {
      "text/html": [
       "<div>\n",
       "<style scoped>\n",
       "    .dataframe tbody tr th:only-of-type {\n",
       "        vertical-align: middle;\n",
       "    }\n",
       "\n",
       "    .dataframe tbody tr th {\n",
       "        vertical-align: top;\n",
       "    }\n",
       "\n",
       "    .dataframe thead th {\n",
       "        text-align: right;\n",
       "    }\n",
       "</style>\n",
       "<table border=\"1\" class=\"dataframe\">\n",
       "  <thead>\n",
       "    <tr style=\"text-align: right;\">\n",
       "      <th></th>\n",
       "      <th>Interview</th>\n",
       "      <th>Experience</th>\n",
       "      <th>Salary</th>\n",
       "      <th>Position_DS</th>\n",
       "      <th>Type_WFO</th>\n",
       "      <th>Location_Pune</th>\n",
       "      <th>Location_Remote</th>\n",
       "    </tr>\n",
       "  </thead>\n",
       "  <tbody>\n",
       "    <tr>\n",
       "      <th>17</th>\n",
       "      <td>5</td>\n",
       "      <td>5.4</td>\n",
       "      <td>83089</td>\n",
       "      <td>1.0</td>\n",
       "      <td>0.0</td>\n",
       "      <td>0.0</td>\n",
       "      <td>1.0</td>\n",
       "    </tr>\n",
       "    <tr>\n",
       "      <th>24</th>\n",
       "      <td>10</td>\n",
       "      <td>8.8</td>\n",
       "      <td>109432</td>\n",
       "      <td>1.0</td>\n",
       "      <td>1.0</td>\n",
       "      <td>1.0</td>\n",
       "      <td>0.0</td>\n",
       "    </tr>\n",
       "    <tr>\n",
       "      <th>25</th>\n",
       "      <td>7</td>\n",
       "      <td>9.1</td>\n",
       "      <td>105583</td>\n",
       "      <td>1.0</td>\n",
       "      <td>1.0</td>\n",
       "      <td>0.0</td>\n",
       "      <td>0.0</td>\n",
       "    </tr>\n",
       "    <tr>\n",
       "      <th>26</th>\n",
       "      <td>6</td>\n",
       "      <td>9.6</td>\n",
       "      <td>116970</td>\n",
       "      <td>1.0</td>\n",
       "      <td>1.0</td>\n",
       "      <td>0.0</td>\n",
       "      <td>0.0</td>\n",
       "    </tr>\n",
       "    <tr>\n",
       "      <th>27</th>\n",
       "      <td>8</td>\n",
       "      <td>9.7</td>\n",
       "      <td>112636</td>\n",
       "      <td>1.0</td>\n",
       "      <td>1.0</td>\n",
       "      <td>0.0</td>\n",
       "      <td>0.0</td>\n",
       "    </tr>\n",
       "  </tbody>\n",
       "</table>\n",
       "</div>"
      ],
      "text/plain": [
       "    Interview  Experience  Salary  Position_DS  Type_WFO  Location_Pune  \\\n",
       "17          5         5.4   83089          1.0       0.0            0.0   \n",
       "24         10         8.8  109432          1.0       1.0            1.0   \n",
       "25          7         9.1  105583          1.0       1.0            0.0   \n",
       "26          6         9.6  116970          1.0       1.0            0.0   \n",
       "27          8         9.7  112636          1.0       1.0            0.0   \n",
       "\n",
       "    Location_Remote  \n",
       "17              1.0  \n",
       "24              0.0  \n",
       "25              0.0  \n",
       "26              0.0  \n",
       "27              0.0  "
      ]
     },
     "execution_count": 30,
     "metadata": {},
     "output_type": "execute_result"
    }
   ],
   "source": [
    "df.sample(5)"
   ]
  },
  {
   "cell_type": "code",
   "execution_count": 31,
   "id": "fd45646b-07ed-4d11-b705-b9d684728841",
   "metadata": {},
   "outputs": [],
   "source": [
    "std_scaler= StandardScaler()"
   ]
  },
  {
   "cell_type": "code",
   "execution_count": 34,
   "id": "617f0e5f-2161-4abc-b0af-3ebff4af66c0",
   "metadata": {},
   "outputs": [],
   "source": [
    "df[[\"Interview\",\"Experience\"]]=std_scaler.fit_transform(df[[\"Interview\",\"Experience\"]])"
   ]
  },
  {
   "cell_type": "code",
   "execution_count": 35,
   "id": "89388025-97d9-4083-9563-c16acc77314a",
   "metadata": {},
   "outputs": [
    {
     "data": {
      "text/html": [
       "<div>\n",
       "<style scoped>\n",
       "    .dataframe tbody tr th:only-of-type {\n",
       "        vertical-align: middle;\n",
       "    }\n",
       "\n",
       "    .dataframe tbody tr th {\n",
       "        vertical-align: top;\n",
       "    }\n",
       "\n",
       "    .dataframe thead th {\n",
       "        text-align: right;\n",
       "    }\n",
       "</style>\n",
       "<table border=\"1\" class=\"dataframe\">\n",
       "  <thead>\n",
       "    <tr style=\"text-align: right;\">\n",
       "      <th></th>\n",
       "      <th>Interview</th>\n",
       "      <th>Experience</th>\n",
       "      <th>Salary</th>\n",
       "      <th>Position_DS</th>\n",
       "      <th>Type_WFO</th>\n",
       "      <th>Location_Pune</th>\n",
       "      <th>Location_Remote</th>\n",
       "    </tr>\n",
       "  </thead>\n",
       "  <tbody>\n",
       "    <tr>\n",
       "      <th>27</th>\n",
       "      <td>0.290409</td>\n",
       "      <td>1.536336</td>\n",
       "      <td>112636</td>\n",
       "      <td>1.0</td>\n",
       "      <td>1.0</td>\n",
       "      <td>0.0</td>\n",
       "      <td>0.0</td>\n",
       "    </tr>\n",
       "    <tr>\n",
       "      <th>7</th>\n",
       "      <td>0.290409</td>\n",
       "      <td>-0.757416</td>\n",
       "      <td>54446</td>\n",
       "      <td>0.0</td>\n",
       "      <td>1.0</td>\n",
       "      <td>1.0</td>\n",
       "      <td>0.0</td>\n",
       "    </tr>\n",
       "    <tr>\n",
       "      <th>3</th>\n",
       "      <td>0.290409</td>\n",
       "      <td>-1.187494</td>\n",
       "      <td>43526</td>\n",
       "      <td>0.0</td>\n",
       "      <td>0.0</td>\n",
       "      <td>0.0</td>\n",
       "      <td>1.0</td>\n",
       "    </tr>\n",
       "    <tr>\n",
       "      <th>20</th>\n",
       "      <td>0.290409</td>\n",
       "      <td>0.532819</td>\n",
       "      <td>91739</td>\n",
       "      <td>1.0</td>\n",
       "      <td>1.0</td>\n",
       "      <td>1.0</td>\n",
       "      <td>0.0</td>\n",
       "    </tr>\n",
       "    <tr>\n",
       "      <th>10</th>\n",
       "      <td>0.912714</td>\n",
       "      <td>-0.506537</td>\n",
       "      <td>63219</td>\n",
       "      <td>0.0</td>\n",
       "      <td>1.0</td>\n",
       "      <td>0.0</td>\n",
       "      <td>0.0</td>\n",
       "    </tr>\n",
       "  </tbody>\n",
       "</table>\n",
       "</div>"
      ],
      "text/plain": [
       "    Interview  Experience  Salary  Position_DS  Type_WFO  Location_Pune  \\\n",
       "27   0.290409    1.536336  112636          1.0       1.0            0.0   \n",
       "7    0.290409   -0.757416   54446          0.0       1.0            1.0   \n",
       "3    0.290409   -1.187494   43526          0.0       0.0            0.0   \n",
       "20   0.290409    0.532819   91739          1.0       1.0            1.0   \n",
       "10   0.912714   -0.506537   63219          0.0       1.0            0.0   \n",
       "\n",
       "    Location_Remote  \n",
       "27              0.0  \n",
       "7               0.0  \n",
       "3               1.0  \n",
       "20              0.0  \n",
       "10              0.0  "
      ]
     },
     "execution_count": 35,
     "metadata": {},
     "output_type": "execute_result"
    }
   ],
   "source": [
    "df.sample(5)"
   ]
  },
  {
   "cell_type": "code",
   "execution_count": 36,
   "id": "360d0028-7b86-4113-9f12-84ca5cdea043",
   "metadata": {},
   "outputs": [],
   "source": [
    "minmax_scaler=MinMaxScaler()"
   ]
  },
  {
   "cell_type": "code",
   "execution_count": 37,
   "id": "bc27d96c-16e0-4ae9-bacb-8cd5a288d550",
   "metadata": {},
   "outputs": [],
   "source": [
    "df[\"Salary\"]= minmax_scaler.fit_transform(df[[\"Salary\"]])"
   ]
  },
  {
   "cell_type": "code",
   "execution_count": 38,
   "id": "c5a2a857-abdf-400b-a3c0-cbe72e91215b",
   "metadata": {},
   "outputs": [
    {
     "data": {
      "text/html": [
       "<div>\n",
       "<style scoped>\n",
       "    .dataframe tbody tr th:only-of-type {\n",
       "        vertical-align: middle;\n",
       "    }\n",
       "\n",
       "    .dataframe tbody tr th {\n",
       "        vertical-align: top;\n",
       "    }\n",
       "\n",
       "    .dataframe thead th {\n",
       "        text-align: right;\n",
       "    }\n",
       "</style>\n",
       "<table border=\"1\" class=\"dataframe\">\n",
       "  <thead>\n",
       "    <tr style=\"text-align: right;\">\n",
       "      <th></th>\n",
       "      <th>Interview</th>\n",
       "      <th>Experience</th>\n",
       "      <th>Salary</th>\n",
       "      <th>Position_DS</th>\n",
       "      <th>Type_WFO</th>\n",
       "      <th>Location_Pune</th>\n",
       "      <th>Location_Remote</th>\n",
       "    </tr>\n",
       "  </thead>\n",
       "  <tbody>\n",
       "    <tr>\n",
       "      <th>14</th>\n",
       "      <td>-0.331896</td>\n",
       "      <td>-0.291498</td>\n",
       "      <td>0.276163</td>\n",
       "      <td>0.0</td>\n",
       "      <td>1.0</td>\n",
       "      <td>0.0</td>\n",
       "      <td>0.0</td>\n",
       "    </tr>\n",
       "    <tr>\n",
       "      <th>28</th>\n",
       "      <td>-0.331896</td>\n",
       "      <td>1.787215</td>\n",
       "      <td>1.000000</td>\n",
       "      <td>1.0</td>\n",
       "      <td>1.0</td>\n",
       "      <td>0.0</td>\n",
       "      <td>0.0</td>\n",
       "    </tr>\n",
       "    <tr>\n",
       "      <th>13</th>\n",
       "      <td>0.912714</td>\n",
       "      <td>-0.434857</td>\n",
       "      <td>0.228561</td>\n",
       "      <td>0.0</td>\n",
       "      <td>1.0</td>\n",
       "      <td>0.0</td>\n",
       "      <td>0.0</td>\n",
       "    </tr>\n",
       "    <tr>\n",
       "      <th>7</th>\n",
       "      <td>0.290409</td>\n",
       "      <td>-0.757416</td>\n",
       "      <td>0.197425</td>\n",
       "      <td>0.0</td>\n",
       "      <td>1.0</td>\n",
       "      <td>1.0</td>\n",
       "      <td>0.0</td>\n",
       "    </tr>\n",
       "    <tr>\n",
       "      <th>1</th>\n",
       "      <td>-1.576506</td>\n",
       "      <td>-1.438373</td>\n",
       "      <td>0.100094</td>\n",
       "      <td>0.0</td>\n",
       "      <td>0.0</td>\n",
       "      <td>0.0</td>\n",
       "      <td>1.0</td>\n",
       "    </tr>\n",
       "  </tbody>\n",
       "</table>\n",
       "</div>"
      ],
      "text/plain": [
       "    Interview  Experience    Salary  Position_DS  Type_WFO  Location_Pune  \\\n",
       "14  -0.331896   -0.291498  0.276163          0.0       1.0            0.0   \n",
       "28  -0.331896    1.787215  1.000000          1.0       1.0            0.0   \n",
       "13   0.912714   -0.434857  0.228561          0.0       1.0            0.0   \n",
       "7    0.290409   -0.757416  0.197425          0.0       1.0            1.0   \n",
       "1   -1.576506   -1.438373  0.100094          0.0       0.0            0.0   \n",
       "\n",
       "    Location_Remote  \n",
       "14              0.0  \n",
       "28              0.0  \n",
       "13              0.0  \n",
       "7               0.0  \n",
       "1               1.0  "
      ]
     },
     "execution_count": 38,
     "metadata": {},
     "output_type": "execute_result"
    }
   ],
   "source": [
    "df.sample(5)"
   ]
  },
  {
   "cell_type": "code",
   "execution_count": 40,
   "id": "9a44d3aa-5425-49ba-8066-5c7868fc3659",
   "metadata": {},
   "outputs": [
    {
     "data": {
      "text/plain": [
       "Index(['Interview', 'Experience', 'Salary', 'Position_DS', 'Type_WFO',\n",
       "       'Location_Pune', 'Location_Remote'],\n",
       "      dtype='object')"
      ]
     },
     "execution_count": 40,
     "metadata": {},
     "output_type": "execute_result"
    }
   ],
   "source": [
    "df.columns"
   ]
  },
  {
   "cell_type": "code",
   "execution_count": 41,
   "id": "4964787c-b6fd-4e0a-848b-8fd0bd4fec7b",
   "metadata": {},
   "outputs": [],
   "source": [
    "df= df[['Interview', 'Experience', 'Position_DS', 'Type_WFO',\n",
    "       'Location_Pune', 'Location_Remote','Salary',]]"
   ]
  },
  {
   "cell_type": "code",
   "execution_count": 42,
   "id": "19b80068-de8f-4e56-bfbf-644af1cb6461",
   "metadata": {},
   "outputs": [
    {
     "data": {
      "text/html": [
       "<div>\n",
       "<style scoped>\n",
       "    .dataframe tbody tr th:only-of-type {\n",
       "        vertical-align: middle;\n",
       "    }\n",
       "\n",
       "    .dataframe tbody tr th {\n",
       "        vertical-align: top;\n",
       "    }\n",
       "\n",
       "    .dataframe thead th {\n",
       "        text-align: right;\n",
       "    }\n",
       "</style>\n",
       "<table border=\"1\" class=\"dataframe\">\n",
       "  <thead>\n",
       "    <tr style=\"text-align: right;\">\n",
       "      <th></th>\n",
       "      <th>Interview</th>\n",
       "      <th>Experience</th>\n",
       "      <th>Position_DS</th>\n",
       "      <th>Type_WFO</th>\n",
       "      <th>Location_Pune</th>\n",
       "      <th>Location_Remote</th>\n",
       "      <th>Salary</th>\n",
       "    </tr>\n",
       "  </thead>\n",
       "  <tbody>\n",
       "    <tr>\n",
       "      <th>0</th>\n",
       "      <td>1.535019</td>\n",
       "      <td>-1.510053</td>\n",
       "      <td>0.0</td>\n",
       "      <td>0.0</td>\n",
       "      <td>0.0</td>\n",
       "      <td>1.0</td>\n",
       "      <td>0.019041</td>\n",
       "    </tr>\n",
       "    <tr>\n",
       "      <th>1</th>\n",
       "      <td>-1.576506</td>\n",
       "      <td>-1.438373</td>\n",
       "      <td>0.0</td>\n",
       "      <td>0.0</td>\n",
       "      <td>0.0</td>\n",
       "      <td>1.0</td>\n",
       "      <td>0.100094</td>\n",
       "    </tr>\n",
       "    <tr>\n",
       "      <th>2</th>\n",
       "      <td>-0.331896</td>\n",
       "      <td>-1.366693</td>\n",
       "      <td>0.0</td>\n",
       "      <td>0.0</td>\n",
       "      <td>0.0</td>\n",
       "      <td>1.0</td>\n",
       "      <td>0.000000</td>\n",
       "    </tr>\n",
       "    <tr>\n",
       "      <th>3</th>\n",
       "      <td>0.290409</td>\n",
       "      <td>-1.187494</td>\n",
       "      <td>0.0</td>\n",
       "      <td>0.0</td>\n",
       "      <td>0.0</td>\n",
       "      <td>1.0</td>\n",
       "      <td>0.068438</td>\n",
       "    </tr>\n",
       "    <tr>\n",
       "      <th>4</th>\n",
       "      <td>-0.954201</td>\n",
       "      <td>-1.115814</td>\n",
       "      <td>0.0</td>\n",
       "      <td>0.0</td>\n",
       "      <td>0.0</td>\n",
       "      <td>1.0</td>\n",
       "      <td>0.025514</td>\n",
       "    </tr>\n",
       "  </tbody>\n",
       "</table>\n",
       "</div>"
      ],
      "text/plain": [
       "   Interview  Experience  Position_DS  Type_WFO  Location_Pune  \\\n",
       "0   1.535019   -1.510053          0.0       0.0            0.0   \n",
       "1  -1.576506   -1.438373          0.0       0.0            0.0   \n",
       "2  -0.331896   -1.366693          0.0       0.0            0.0   \n",
       "3   0.290409   -1.187494          0.0       0.0            0.0   \n",
       "4  -0.954201   -1.115814          0.0       0.0            0.0   \n",
       "\n",
       "   Location_Remote    Salary  \n",
       "0              1.0  0.019041  \n",
       "1              1.0  0.100094  \n",
       "2              1.0  0.000000  \n",
       "3              1.0  0.068438  \n",
       "4              1.0  0.025514  "
      ]
     },
     "execution_count": 42,
     "metadata": {},
     "output_type": "execute_result"
    }
   ],
   "source": [
    "df.head()"
   ]
  },
  {
   "cell_type": "code",
   "execution_count": 43,
   "id": "d85168a0-709a-4ded-b2fb-1bf2429d2621",
   "metadata": {},
   "outputs": [
    {
     "data": {
      "text/html": [
       "<div>\n",
       "<style scoped>\n",
       "    .dataframe tbody tr th:only-of-type {\n",
       "        vertical-align: middle;\n",
       "    }\n",
       "\n",
       "    .dataframe tbody tr th {\n",
       "        vertical-align: top;\n",
       "    }\n",
       "\n",
       "    .dataframe thead th {\n",
       "        text-align: right;\n",
       "    }\n",
       "</style>\n",
       "<table border=\"1\" class=\"dataframe\">\n",
       "  <thead>\n",
       "    <tr style=\"text-align: right;\">\n",
       "      <th></th>\n",
       "      <th>Interview</th>\n",
       "      <th>Experience</th>\n",
       "      <th>Position_DS</th>\n",
       "      <th>Type_WFO</th>\n",
       "      <th>Location_Pune</th>\n",
       "      <th>Location_Remote</th>\n",
       "      <th>Salary</th>\n",
       "    </tr>\n",
       "  </thead>\n",
       "  <tbody>\n",
       "    <tr>\n",
       "      <th>Interview</th>\n",
       "      <td>1.000000</td>\n",
       "      <td>0.042277</td>\n",
       "      <td>8.297398e-02</td>\n",
       "      <td>1.466787e-02</td>\n",
       "      <td>2.933573e-02</td>\n",
       "      <td>-1.466787e-02</td>\n",
       "      <td>0.004856</td>\n",
       "    </tr>\n",
       "    <tr>\n",
       "      <th>Experience</th>\n",
       "      <td>0.042277</td>\n",
       "      <td>1.000000</td>\n",
       "      <td>8.386528e-01</td>\n",
       "      <td>4.519432e-01</td>\n",
       "      <td>3.970342e-02</td>\n",
       "      <td>-4.519432e-01</td>\n",
       "      <td>0.978242</td>\n",
       "    </tr>\n",
       "    <tr>\n",
       "      <th>Position_DS</th>\n",
       "      <td>0.082974</td>\n",
       "      <td>0.838653</td>\n",
       "      <td>1.000000e+00</td>\n",
       "      <td>-1.530840e-16</td>\n",
       "      <td>-7.457939e-17</td>\n",
       "      <td>8.242985e-17</td>\n",
       "      <td>0.856577</td>\n",
       "    </tr>\n",
       "    <tr>\n",
       "      <th>Type_WFO</th>\n",
       "      <td>0.014668</td>\n",
       "      <td>0.451943</td>\n",
       "      <td>-1.530840e-16</td>\n",
       "      <td>1.000000e+00</td>\n",
       "      <td>5.000000e-01</td>\n",
       "      <td>-1.000000e+00</td>\n",
       "      <td>0.422310</td>\n",
       "    </tr>\n",
       "    <tr>\n",
       "      <th>Location_Pune</th>\n",
       "      <td>0.029336</td>\n",
       "      <td>0.039703</td>\n",
       "      <td>-7.457939e-17</td>\n",
       "      <td>5.000000e-01</td>\n",
       "      <td>1.000000e+00</td>\n",
       "      <td>-5.000000e-01</td>\n",
       "      <td>0.124342</td>\n",
       "    </tr>\n",
       "    <tr>\n",
       "      <th>Location_Remote</th>\n",
       "      <td>-0.014668</td>\n",
       "      <td>-0.451943</td>\n",
       "      <td>8.242985e-17</td>\n",
       "      <td>-1.000000e+00</td>\n",
       "      <td>-5.000000e-01</td>\n",
       "      <td>1.000000e+00</td>\n",
       "      <td>-0.422310</td>\n",
       "    </tr>\n",
       "    <tr>\n",
       "      <th>Salary</th>\n",
       "      <td>0.004856</td>\n",
       "      <td>0.978242</td>\n",
       "      <td>8.565766e-01</td>\n",
       "      <td>4.223099e-01</td>\n",
       "      <td>1.243421e-01</td>\n",
       "      <td>-4.223099e-01</td>\n",
       "      <td>1.000000</td>\n",
       "    </tr>\n",
       "  </tbody>\n",
       "</table>\n",
       "</div>"
      ],
      "text/plain": [
       "                 Interview  Experience   Position_DS      Type_WFO  \\\n",
       "Interview         1.000000    0.042277  8.297398e-02  1.466787e-02   \n",
       "Experience        0.042277    1.000000  8.386528e-01  4.519432e-01   \n",
       "Position_DS       0.082974    0.838653  1.000000e+00 -1.530840e-16   \n",
       "Type_WFO          0.014668    0.451943 -1.530840e-16  1.000000e+00   \n",
       "Location_Pune     0.029336    0.039703 -7.457939e-17  5.000000e-01   \n",
       "Location_Remote  -0.014668   -0.451943  8.242985e-17 -1.000000e+00   \n",
       "Salary            0.004856    0.978242  8.565766e-01  4.223099e-01   \n",
       "\n",
       "                 Location_Pune  Location_Remote    Salary  \n",
       "Interview         2.933573e-02    -1.466787e-02  0.004856  \n",
       "Experience        3.970342e-02    -4.519432e-01  0.978242  \n",
       "Position_DS      -7.457939e-17     8.242985e-17  0.856577  \n",
       "Type_WFO          5.000000e-01    -1.000000e+00  0.422310  \n",
       "Location_Pune     1.000000e+00    -5.000000e-01  0.124342  \n",
       "Location_Remote  -5.000000e-01     1.000000e+00 -0.422310  \n",
       "Salary            1.243421e-01    -4.223099e-01  1.000000  "
      ]
     },
     "execution_count": 43,
     "metadata": {},
     "output_type": "execute_result"
    }
   ],
   "source": [
    "df.corr()"
   ]
  },
  {
   "cell_type": "code",
   "execution_count": 45,
   "id": "4bfd5421-b19d-4f27-9ce9-2fd7f1b2dea9",
   "metadata": {},
   "outputs": [
    {
     "data": {
      "image/png": "[encoded data removed]",
      "text/plain": [
       "<Figure size 800x500 with 2 Axes>"
      ]
     },
     "metadata": {},
     "output_type": "display_data"
    }
   ],
   "source": [
    "plt.figure(figsize=(8,5))\n",
    "sns.heatmap(df.corr(), annot=True, fmt=\".3f\", vmax=1, vmin=0)\n",
    "plt.show()"
   ]
  },
  {
   "cell_type": "code",
   "execution_count": null,
   "id": "2aeecd9d-98ea-42d5-a59b-2574b224a0cb",
   "metadata": {},
   "outputs": [],
   "source": []
  }
 ],
 "metadata": {
  "kernelspec": {
   "display_name": "Python 3 (ipykernel)",
   "language": "python",
   "name": "python3"
  },
  "language_info": {
   "codemirror_mode": {
    "name": "ipython",
    "version": 3
   },
   "file_extension": ".py",
   "mimetype": "text/x-python",
   "name": "python",
   "nbconvert_exporter": "python",
   "pygments_lexer": "ipython3",
   "version": "3.11.9"
  }
 },
 "nbformat": 4,
 "nbformat_minor": 5
}
